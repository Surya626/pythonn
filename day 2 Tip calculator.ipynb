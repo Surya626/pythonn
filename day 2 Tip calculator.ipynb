{
 "cells": [
  {
   "cell_type": "code",
   "execution_count": 9,
   "id": "c3cf850f",
   "metadata": {},
   "outputs": [
    {
     "name": "stdout",
     "output_type": "stream",
     "text": [
      "what is the bill ?     -->124.56\n",
      "how many are you there?-->7\n",
      "each person should pay  : 19.93\n"
     ]
    }
   ],
   "source": [
    "bill = float(input(\"what is the bill ?     -->\"))\n",
    "pp = int(input(\"how many are you there?-->\"))\n",
    "tip = 0.12\n",
    "tota = (bill+(bill*tip))/pp\n",
    "total=round(tota,2)\n",
    "print(f'each person should pay  : {total}')"
   ]
  },
  {
   "cell_type": "code",
   "execution_count": null,
   "id": "77083e9e",
   "metadata": {},
   "outputs": [],
   "source": []
  },
  {
   "cell_type": "code",
   "execution_count": null,
   "id": "436a89b0",
   "metadata": {},
   "outputs": [],
   "source": []
  }
 ],
 "metadata": {
  "kernelspec": {
   "display_name": "Python 3 (ipykernel)",
   "language": "python",
   "name": "python3"
  },
  "language_info": {
   "codemirror_mode": {
    "name": "ipython",
    "version": 3
   },
   "file_extension": ".py",
   "mimetype": "text/x-python",
   "name": "python",
   "nbconvert_exporter": "python",
   "pygments_lexer": "ipython3",
   "version": "3.10.4"
  }
 },
 "nbformat": 4,
 "nbformat_minor": 5
}
