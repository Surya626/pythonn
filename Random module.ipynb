{
 "cells": [
  {
   "cell_type": "code",
   "execution_count": 4,
   "id": "00ef8fd3",
   "metadata": {},
   "outputs": [
    {
     "name": "stdout",
     "output_type": "stream",
     "text": [
      "48\n",
      "3.613462307449887\n"
     ]
    }
   ],
   "source": [
    "import random\n",
    "n= random.randint(1,100)\n",
    "print(n)\n",
    "\n",
    "f= random.random()\n",
    "print(f*5)\n",
    "#if you need a range from 0-55 just multiply with 55"
   ]
  },
  {
   "cell_type": "code",
   "execution_count": null,
   "id": "90e75907",
   "metadata": {},
   "outputs": [],
   "source": []
  }
 ],
 "metadata": {
  "kernelspec": {
   "display_name": "Python 3 (ipykernel)",
   "language": "python",
   "name": "python3"
  },
  "language_info": {
   "codemirror_mode": {
    "name": "ipython",
    "version": 3
   },
   "file_extension": ".py",
   "mimetype": "text/x-python",
   "name": "python",
   "nbconvert_exporter": "python",
   "pygments_lexer": "ipython3",
   "version": "3.10.4"
  }
 },
 "nbformat": 4,
 "nbformat_minor": 5
}
