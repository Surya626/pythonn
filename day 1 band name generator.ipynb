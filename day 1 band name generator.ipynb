{
 "cells": [
  {
   "cell_type": "code",
   "execution_count": 6,
   "id": "4d44db71",
   "metadata": {},
   "outputs": [
    {
     "name": "stdout",
     "output_type": "stream",
     "text": [
      "Welcome to the Band Name Generator\n",
      "which city do you live ? \n",
      "kaka\n",
      "what is your pet name ? \n",
      "tom\n",
      "your band name should be kaka tom\n"
     ]
    }
   ],
   "source": [
    "print(\"Welcome to the Band Name Generator\")\n",
    "\n",
    "city =input(\"which city do you live ? \\n\")\n",
    "pet = input(\"what is your pet name ? \\n\")\n",
    "print(\"your band name should be \" + city+\" \"+pet)"
   ]
  },
  {
   "cell_type": "code",
   "execution_count": null,
   "id": "bab1f8cb",
   "metadata": {},
   "outputs": [],
   "source": []
  }
 ],
 "metadata": {
  "kernelspec": {
   "display_name": "Python 3 (ipykernel)",
   "language": "python",
   "name": "python3"
  },
  "language_info": {
   "codemirror_mode": {
    "name": "ipython",
    "version": 3
   },
   "file_extension": ".py",
   "mimetype": "text/x-python",
   "name": "python",
   "nbconvert_exporter": "python",
   "pygments_lexer": "ipython3",
   "version": "3.10.4"
  }
 },
 "nbformat": 4,
 "nbformat_minor": 5
}
